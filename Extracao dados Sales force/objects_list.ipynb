{
 "cells": [
  {
   "cell_type": "code",
   "execution_count": null,
   "metadata": {},
   "outputs": [],
   "source": [
    "# !pip install simple-salesforce"
   ]
  },
  {
   "cell_type": "code",
   "execution_count": 5,
   "metadata": {},
   "outputs": [],
   "source": [
    "from simple_salesforce import Salesforce\n",
    "import pandas as pd"
   ]
  },
  {
   "cell_type": "code",
   "execution_count": null,
   "metadata": {},
   "outputs": [],
   "source": [
    "username = \"teste@email.com\"\n",
    "password = \"XXXXXX\"\n",
    "security_token = \"YYYYY\""
   ]
  },
  {
   "cell_type": "code",
   "execution_count": 17,
   "metadata": {},
   "outputs": [],
   "source": [
    "file_path_output = \"output\""
   ]
  },
  {
   "cell_type": "code",
   "execution_count": 3,
   "metadata": {},
   "outputs": [],
   "source": [
    "# Crie a instância Salesforce\n",
    "sf = Salesforce(username=username, password=password, security_token=security_token)"
   ]
  },
  {
   "cell_type": "markdown",
   "metadata": {},
   "source": [
    "## Todos objetso salesforce"
   ]
  },
  {
   "cell_type": "code",
   "execution_count": null,
   "metadata": {},
   "outputs": [],
   "source": [
    "name_file = \"XXX_objetos_todos\"\n",
    "\n",
    "# Busca a lista de todos os objetos disponíveis\n",
    "objects = sf.describe()[\"sobjects\"]\n",
    "\n",
    "# Criar uma lista para armazenar os dados dos objetos\n",
    "objects_data = []\n",
    "\n",
    "# Iterar sobre a lista de objetos e coletar os dados desejados\n",
    "for obj in objects:\n",
    "    objects_data.append({\n",
    "        \"Label\": obj['label'],\n",
    "        \"Name\": obj['name'],\n",
    "        \"Custom\": obj['custom'],\n",
    "        \"Queryable\": obj['queryable']\n",
    "    })\n",
    "\n",
    "# Converter a lista em um DataFrame\n",
    "df_objects = pd.DataFrame(objects_data)"
   ]
  },
  {
   "cell_type": "code",
   "execution_count": null,
   "metadata": {},
   "outputs": [],
   "source": [
    "df_objects"
   ]
  },
  {
   "cell_type": "code",
   "execution_count": 20,
   "metadata": {},
   "outputs": [],
   "source": [
    "df_objects.to_csv(f\"{file_path_output}/{name_file}.csv\", encoding=\"utf-8\", sep=\"|\")"
   ]
  },
  {
   "cell_type": "markdown",
   "metadata": {},
   "source": [
    "## Objetos padrão Salesforce"
   ]
  },
  {
   "cell_type": "code",
   "execution_count": null,
   "metadata": {},
   "outputs": [],
   "source": [
    "name_file = \"XXXX_objetos_padrao\"\n",
    "\n",
    "# Criar uma lista para armazenar os dados dos objetos padrão\n",
    "standard_objects_data = []\n",
    "\n",
    "# Iterar sobre a lista de objetos e coletar os dados dos objetos padrão\n",
    "for obj in objects:\n",
    "    if not obj['custom']:  # Verifica se o objeto é padrão\n",
    "        standard_objects_data.append({\n",
    "            \"Label\": obj['label'],\n",
    "            \"Name\": obj['name'],\n",
    "            \"Custom\": obj['custom'],\n",
    "            \"Queryable\": obj['queryable']\n",
    "        })\n",
    "\n",
    "# Converter a lista em um DataFrame\n",
    "df_standard_objects = pd.DataFrame(standard_objects_data)"
   ]
  },
  {
   "cell_type": "code",
   "execution_count": null,
   "metadata": {},
   "outputs": [],
   "source": [
    "# Exibir o DataFrame\n",
    "df_standard_objects"
   ]
  },
  {
   "cell_type": "code",
   "execution_count": 24,
   "metadata": {},
   "outputs": [],
   "source": [
    "df_standard_objects.to_csv(f\"{file_path_output}/{name_file}.csv\", encoding=\"utf-8\", sep=\"|\")"
   ]
  },
  {
   "cell_type": "code",
   "execution_count": null,
   "metadata": {},
   "outputs": [],
   "source": [
    "# Supondo que 'objects' é a lista de objetos recuperada do Salesforce\n",
    "for obj in objects:\n",
    "    if obj['name'] in ['Account', 'Opportunity']:\n",
    "        print(f\"Encontrado objeto padrão: {obj['label']} com o nome de API: {obj['name']}\")"
   ]
  }
 ],
 "metadata": {
  "kernelspec": {
   "display_name": "Python 3",
   "language": "python",
   "name": "python3"
  },
  "language_info": {
   "codemirror_mode": {
    "name": "ipython",
    "version": 3
   },
   "file_extension": ".py",
   "mimetype": "text/x-python",
   "name": "python",
   "nbconvert_exporter": "python",
   "pygments_lexer": "ipython3",
   "version": "3.12.7"
  }
 },
 "nbformat": 4,
 "nbformat_minor": 2
}
