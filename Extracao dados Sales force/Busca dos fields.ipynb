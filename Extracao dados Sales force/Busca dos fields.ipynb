{
 "cells": [
  {
   "cell_type": "code",
   "execution_count": 6,
   "metadata": {},
   "outputs": [],
   "source": [
    "from simple_salesforce import Salesforce\n",
    "import pandas as pd"
   ]
  },
  {
   "cell_type": "code",
   "execution_count": null,
   "metadata": {},
   "outputs": [],
   "source": [
    "username = \"teste@email.com\"\n",
    "password = \"XXXXXX\"\n",
    "security_token = \"YYYYY\""
   ]
  },
  {
   "cell_type": "code",
   "execution_count": 8,
   "metadata": {},
   "outputs": [],
   "source": [
    "# Crie a instância Salesforce\n",
    "sf = Salesforce(username=username, password=password, security_token=security_token)"
   ]
  },
  {
   "cell_type": "code",
   "execution_count": null,
   "metadata": {},
   "outputs": [],
   "source": [
    "campos_desejados = []\n",
    "\n",
    "# Descreve o objeto Account para obter detalhes sobre todos os campos\n",
    "account_description = sf.Opportunity.describe()\n",
    "\n",
    "# Se campos_desejados estiverem definidos, filtra os campos\n",
    "if campos_desejados:\n",
    "    if account_description['name'] == 'Account':\n",
    "        account_description['fields'] = [field for field in account_description.get('fields', []) if field['name'] in campos_desejados]\n"
   ]
  },
  {
   "cell_type": "code",
   "execution_count": null,
   "metadata": {},
   "outputs": [],
   "source": [
    "account_description.get('fields', [])"
   ]
  },
  {
   "cell_type": "code",
   "execution_count": 10,
   "metadata": {},
   "outputs": [],
   "source": [
    "fields_data = []\n",
    "\n",
    "# Se account_description é uma lista, pegue o primeiro elemento\n",
    "if isinstance(account_description, list) and len(account_description) > 0:\n",
    "    account_description = account_description[0]\n",
    "\n",
    "# Iterar sobre os campos e coletar detalhes\n",
    "for field in account_description.get('fields', []):\n",
    "    fields_data.append({\n",
    "        \"Nome\": field.get('name', ''),\n",
    "        \"Tipo\": field.get('type', ''),\n",
    "        \"Rótulo\": field.get('label', '')\n",
    "    })\n",
    "\n",
    "# Converter a lista em um DataFrame\n",
    "df_fields = pd.DataFrame(fields_data)"
   ]
  },
  {
   "cell_type": "code",
   "execution_count": null,
   "metadata": {},
   "outputs": [],
   "source": [
    "df_fields"
   ]
  },
  {
   "cell_type": "code",
   "execution_count": 12,
   "metadata": {},
   "outputs": [
    {
     "data": {
      "text/plain": [
       "(328, 3)"
      ]
     },
     "execution_count": 12,
     "metadata": {},
     "output_type": "execute_result"
    }
   ],
   "source": [
    "df_fields.shape"
   ]
  }
 ],
 "metadata": {
  "kernelspec": {
   "display_name": "Python 3",
   "language": "python",
   "name": "python3"
  },
  "language_info": {
   "codemirror_mode": {
    "name": "ipython",
    "version": 3
   },
   "file_extension": ".py",
   "mimetype": "text/x-python",
   "name": "python",
   "nbconvert_exporter": "python",
   "pygments_lexer": "ipython3",
   "version": "3.12.7"
  }
 },
 "nbformat": 4,
 "nbformat_minor": 2
}
